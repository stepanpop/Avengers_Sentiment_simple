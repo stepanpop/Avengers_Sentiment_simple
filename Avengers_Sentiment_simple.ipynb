{
  "nbformat": 4,
  "nbformat_minor": 0,
  "metadata": {
    "colab": {
      "provenance": [],
      "authorship_tag": "ABX9TyPUkUxT/HBxr/L2Ijhb1D6x",
      "include_colab_link": true
    },
    "kernelspec": {
      "name": "python3",
      "display_name": "Python 3"
    },
    "language_info": {
      "name": "python"
    }
  },
  "cells": [
    {
      "cell_type": "markdown",
      "metadata": {
        "id": "view-in-github",
        "colab_type": "text"
      },
      "source": [
        "<a href=\"https://colab.research.google.com/github/stepanpop/Avengers_Sentiment_simple/blob/main/Avengers_Sentiment_simple.ipynb\" target=\"_parent\"><img src=\"https://colab.research.google.com/assets/colab-badge.svg\" alt=\"Open In Colab\"/></a>"
      ]
    },
    {
      "cell_type": "markdown",
      "source": [
        "# Is the review for Avengers: Endgame postive or negative?"
      ],
      "metadata": {
        "id": "c4nRscGR836y"
      }
    },
    {
      "cell_type": "code",
      "execution_count": 6,
      "metadata": {
        "id": "DSHHILK16kut"
      },
      "outputs": [],
      "source": [
        "# Using textblob, because it´s a simple task on a short text\n",
        "from textblob import TextBlob\n",
        "\n",
        "# We want to analyze the sentiment aka Emotion AI\n",
        "def analyze_sentiment(review_text):\n",
        "    # Create a TextBlob object\n",
        "    blob = TextBlob(review_text)\n",
        "\n",
        "    # Get the sentiment polarity\n",
        "    polarity = blob.sentiment.polarity\n",
        "\n",
        "    # Determine if the sentiment is positive, negative, or neutral\n",
        "    if polarity > 0:\n",
        "        return \"Positive\"\n",
        "    elif polarity < 0:\n",
        "        return \"Negative\"\n",
        "    else:\n",
        "        return \"Neutral\""
      ]
    },
    {
      "cell_type": "markdown",
      "source": [
        "##Positive review"
      ],
      "metadata": {
        "id": "UYzpmt6Q8Gn2"
      }
    },
    {
      "cell_type": "code",
      "source": [
        "# Example review\n",
        "review_1 = \"Avengers: Endgame was an epic conclusion to the Marvel cinematic universe phase. I loved it!\"\n",
        "result_1 = analyze_sentiment(review_1)\n",
        "print(f\"The review is {result_1}.\")\n"
      ],
      "metadata": {
        "colab": {
          "base_uri": "https://localhost:8080/"
        },
        "id": "-fFMXrKr7n0D",
        "outputId": "fc605a83-6d73-4074-c2d0-9c0e6aa6e333"
      },
      "execution_count": 4,
      "outputs": [
        {
          "output_type": "stream",
          "name": "stdout",
          "text": [
            "The review is Positive.\n"
          ]
        }
      ]
    },
    {
      "cell_type": "markdown",
      "source": [
        "##Negative review"
      ],
      "metadata": {
        "id": "AcKacVK58M31"
      }
    },
    {
      "cell_type": "code",
      "source": [
        "review_2 = \"Avengers: Endgame, despite its blockbuster status and fanfare, ultimately disappoints with its excessive runtime and convoluted plot.\"\n",
        "result_2 = analyze_sentiment(review_2)\n",
        "print(f\"The review is {result_2}.\")\n"
      ],
      "metadata": {
        "colab": {
          "base_uri": "https://localhost:8080/"
        },
        "id": "FUADQzzU7sLR",
        "outputId": "a7fb5ad7-88e1-45fa-d472-34be70d3b7ff"
      },
      "execution_count": 5,
      "outputs": [
        {
          "output_type": "stream",
          "name": "stdout",
          "text": [
            "The review is Negative.\n"
          ]
        }
      ]
    }
  ]
}
